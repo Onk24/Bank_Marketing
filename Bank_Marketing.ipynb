{
 "cells": [
  {
   "cell_type": "markdown",
   "metadata": {},
   "source": [
    "# Bank Marketing - Case Study\n",
    "&emsp; by Onkar Suhas Samant"
   ]
  },
  {
   "cell_type": "markdown",
   "metadata": {},
   "source": [
    "# Executive Summary \n",
    "\n",
    "This case study aims to increase the efficiency of the marketing campaign by predicting whether the client will subscribe to a term deposit. Furthermore, we try to do inferential analysis to find out the potential factors for a successful campaign. <br>\n",
    "The study is divided into the following 3 parts:\n",
    "- Exploratory Data analysis \n",
    "- Inferential Analysis and Feature Selection\n",
    "- Predictive Modeling\n",
    "\n",
    "**Metric:** Precision-Recall Area Under Curve and F1-Score are the metrics used to compare different predictive models. <Br>\n",
    "Since the banks need to identify potential clients who would subscribe to a term deposit we focus on the class \"yes\" for term deposit i.e. people who have subscribed. <br> \n",
    "\n",
    "Following is the summary of various models: \n",
    "\n",
    "| Model | PR-AUC |F1-Score|\n",
    "| :-: | :-: |:-: |\n",
    "|Null - No Features| 0.16|0.20|\n",
    "| Decision Tree | 0.48 | 0.46|\n",
    "| Logistic Regression | 0.40 |0.47|\n",
    "| Random Forest | 0.35 |0.48|\n",
    "| AdaBoost | 0.49 |0.46|\n",
    "| K-Nearest Neighbors| 0.30|0.37|\n",
    "| XGBoost | 0.43 |0.50|\n",
    "\n",
    "- AdaBoost performs the best overall\n",
    "- XGBoost gives the best F1-Score\n",
    "\n",
    "\n",
    "    \n",
    "**Next Steps:**\n",
    "- Different metric: Asymmetric misclassification rate can be used with more weightage to false negatives compared to false positives and finding the model with the least asymmetric misclassification rate. False negatives are costlier for the bank as it cannot miss out on a potential client who might subscribe for a term deposit\n",
    "- More Models: Neural Networks and SVM can be tried on the data for comparison purposes. \n"
   ]
  },
  {
   "cell_type": "markdown",
   "metadata": {},
   "source": [
    "# Importing libraries and data"
   ]
  },
  {
   "cell_type": "code",
   "execution_count": 35,
   "metadata": {
    "ExecuteTime": {
     "end_time": "2020-06-22T05:37:32.592495Z",
     "start_time": "2020-06-22T05:37:32.586544Z"
    }
   },
   "outputs": [],
   "source": [
    "import numpy as np\n",
    "import pandas as pd\n",
    "import os\n",
    "from matplotlib import pyplot as plt\n",
    "import seaborn as sns\n",
    "from sklearn.preprocessing import OneHotEncoder\n",
    "from sklearn.model_selection import train_test_split\n",
    "from sklearn.ensemble import RandomForestClassifier, AdaBoostClassifier\n",
    "from sklearn.inspection import permutation_importance\n",
    "from sklearn.metrics import roc_curve, make_scorer, precision_recall_curve, average_precision_score, plot_precision_recall_curve\n",
    "from sklearn.metrics import roc_auc_score, auc, precision_score, recall_score, f1_score\n",
    "from sklearn.model_selection import StratifiedKFold, GridSearchCV\n",
    "from sklearn.tree import DecisionTreeClassifier\n",
    "from sklearn.linear_model import LogisticRegression\n",
    "from sklearn.svm import SVC\n",
    "from imblearn.over_sampling import SMOTE\n",
    "from sklearn.neighbors import KNeighborsClassifier\n",
    "from xgboost import XGBClassifier\n",
    "from sklearn.preprocessing import MinMaxScaler"
   ]
  },
  {
   "cell_type": "code",
   "execution_count": 2,
   "metadata": {
    "ExecuteTime": {
     "end_time": "2020-06-22T05:32:53.090973Z",
     "start_time": "2020-06-22T05:32:52.969148Z"
    }
   },
   "outputs": [],
   "source": [
    "bank_df = pd.read_csv(\"bank-additional-full.csv\", sep = \";\")"
   ]
  },
  {
   "cell_type": "code",
   "execution_count": 3,
   "metadata": {
    "ExecuteTime": {
     "end_time": "2020-06-22T05:32:53.102202Z",
     "start_time": "2020-06-22T05:32:53.092925Z"
    }
   },
   "outputs": [
    {
     "data": {
      "text/plain": [
       "array(['basic.4y', 'high.school', 'basic.6y', 'basic.9y',\n",
       "       'professional.course', 'unknown', 'university.degree',\n",
       "       'illiterate'], dtype=object)"
      ]
     },
     "execution_count": 3,
     "metadata": {},
     "output_type": "execute_result"
    }
   ],
   "source": [
    "bank_df[\"education\"].unique()"
   ]
  },
  {
   "cell_type": "markdown",
   "metadata": {},
   "source": [
    "# Exploratory data analysis & Feature engineering"
   ]
  },
  {
   "cell_type": "markdown",
   "metadata": {},
   "source": [
    "## Dataset information from UCI "
   ]
  },
  {
   "cell_type": "markdown",
   "metadata": {},
   "source": [
    "UCI has given information about the data and features. We need to understand it thoroughly before we do any analysis."
   ]
  },
  {
   "cell_type": "markdown",
   "metadata": {},
   "source": [
    "The data is related with direct marketing campaigns (phone calls) of a Portuguese banking institution. Following is the link:\n",
    "\n",
    "[Bank Marketing Dataset](https://archive.ics.uci.edu/ml/datasets/Bank+Marketing)\n",
    "\n",
    "The data is related with direct marketing campaigns of a Portuguese banking institution. The marketing campaigns were based on phone calls. Often, more than one contact to the same client was required, in order to access if the product (bank term deposit) would be ('yes') or not ('no') subscribed. <br>\n",
    "Following are the attributes and their types: <br>\n",
    "- **age:** continuous <br>\n",
    "- **job:** categorical  <br>\n",
    "- **marital:** categorical, values - divorced, married, single, unknown\n",
    "- **education:** categorical, values - basic.4y , basic.6y, basic.9y , high.school, illiterate, professional.course, university.degree, unknown <br>\n",
    "- **default:** categorical, has credit in default, values - no, yes, unknown<br>\n",
    "- **housing:** categorical, has housing loan, values - no, yes, unknown <br>\n",
    "- **loan:** categorical, has personal loan, values - no, yes, unknown <br>\n",
    "- **contact:** categorical, values - cellular,telephone  <br>\n",
    "- **month:** categorical, values - jan to dec <br>\n",
    "- **day_of_week:** categorical, values - mon to fri <br>\n",
    "- **duration:** continuous, last contact duration <br>\n",
    "- **campaign:** continuous, number of contacts performed during this campaign and for this client <br>\n",
    "- **pdays:** continuous,  number of days that passed by after the client was last contacted from a previous campaign. 999 means client was not previously contacted<br>\n",
    "- **previous:** continuous, number of contacts performed before this campaign and for this client  <br>\n",
    "- **poutcome:** categorical, outcome of the previous marketing campaign, values - failure, nonexistent,success\n",
    "- **emp.var.rate:**\n",
    "- **cons.price.idx:** continuous, consumer price index - monthly indicator\n",
    "- **cons.conf.idx:** continuous, consumer confidence index - monthly indicator\n",
    "- **euribor3m:** continuous, euribor 3 month rate - daily indicator\n",
    "- **nr.employed:** continuous, number of employees - quarterly indicator <br>\n",
    "Output variable (desired target):\n",
    "- **y:** has the client subscribed a term deposit? (binary: 'yes','no')"
   ]
  },
  {
   "cell_type": "markdown",
   "metadata": {},
   "source": [
    "##  High-level overview"
   ]
  },
  {
   "cell_type": "markdown",
   "metadata": {},
   "source": [
    "### Null/Missing Values"
   ]
  },
  {
   "cell_type": "code",
   "execution_count": 4,
   "metadata": {
    "ExecuteTime": {
     "end_time": "2020-06-22T05:32:53.130138Z",
     "start_time": "2020-06-22T05:32:53.104196Z"
    }
   },
   "outputs": [
    {
     "data": {
      "text/plain": [
       "age               0\n",
       "job               0\n",
       "marital           0\n",
       "education         0\n",
       "default           0\n",
       "housing           0\n",
       "loan              0\n",
       "contact           0\n",
       "month             0\n",
       "day_of_week       0\n",
       "duration          0\n",
       "campaign          0\n",
       "pdays             0\n",
       "previous          0\n",
       "poutcome          0\n",
       "emp.var.rate      0\n",
       "cons.price.idx    0\n",
       "cons.conf.idx     0\n",
       "euribor3m         0\n",
       "nr.employed       0\n",
       "y                 0\n",
       "dtype: int64"
      ]
     },
     "execution_count": 4,
     "metadata": {},
     "output_type": "execute_result"
    }
   ],
   "source": [
    "np.sum(bank_df.isna())"
   ]
  },
  {
   "cell_type": "markdown",
   "metadata": {},
   "source": [
    "There are no null values."
   ]
  },
  {
   "cell_type": "markdown",
   "metadata": {},
   "source": [
    "### Describe Variables"
   ]
  },
  {
   "cell_type": "markdown",
   "metadata": {},
   "source": [
    "#### Continuous Variables"
   ]
  },
  {
   "cell_type": "code",
   "execution_count": 5,
   "metadata": {
    "ExecuteTime": {
     "end_time": "2020-06-22T05:32:53.176711Z",
     "start_time": "2020-06-22T05:32:53.133121Z"
    }
   },
   "outputs": [
    {
     "data": {
      "text/html": [
       "<div>\n",
       "<style scoped>\n",
       "    .dataframe tbody tr th:only-of-type {\n",
       "        vertical-align: middle;\n",
       "    }\n",
       "\n",
       "    .dataframe tbody tr th {\n",
       "        vertical-align: top;\n",
       "    }\n",
       "\n",
       "    .dataframe thead th {\n",
       "        text-align: right;\n",
       "    }\n",
       "</style>\n",
       "<table border=\"1\" class=\"dataframe\">\n",
       "  <thead>\n",
       "    <tr style=\"text-align: right;\">\n",
       "      <th></th>\n",
       "      <th>age</th>\n",
       "      <th>duration</th>\n",
       "      <th>campaign</th>\n",
       "      <th>pdays</th>\n",
       "      <th>previous</th>\n",
       "      <th>emp.var.rate</th>\n",
       "      <th>cons.price.idx</th>\n",
       "      <th>cons.conf.idx</th>\n",
       "      <th>euribor3m</th>\n",
       "      <th>nr.employed</th>\n",
       "    </tr>\n",
       "  </thead>\n",
       "  <tbody>\n",
       "    <tr>\n",
       "      <th>count</th>\n",
       "      <td>41188.00000</td>\n",
       "      <td>41188.000000</td>\n",
       "      <td>41188.000000</td>\n",
       "      <td>41188.000000</td>\n",
       "      <td>41188.000000</td>\n",
       "      <td>41188.000000</td>\n",
       "      <td>41188.000000</td>\n",
       "      <td>41188.000000</td>\n",
       "      <td>41188.000000</td>\n",
       "      <td>41188.000000</td>\n",
       "    </tr>\n",
       "    <tr>\n",
       "      <th>mean</th>\n",
       "      <td>40.02406</td>\n",
       "      <td>258.285010</td>\n",
       "      <td>2.567593</td>\n",
       "      <td>962.475454</td>\n",
       "      <td>0.172963</td>\n",
       "      <td>0.081886</td>\n",
       "      <td>93.575664</td>\n",
       "      <td>-40.502600</td>\n",
       "      <td>3.621291</td>\n",
       "      <td>5167.035911</td>\n",
       "    </tr>\n",
       "    <tr>\n",
       "      <th>std</th>\n",
       "      <td>10.42125</td>\n",
       "      <td>259.279249</td>\n",
       "      <td>2.770014</td>\n",
       "      <td>186.910907</td>\n",
       "      <td>0.494901</td>\n",
       "      <td>1.570960</td>\n",
       "      <td>0.578840</td>\n",
       "      <td>4.628198</td>\n",
       "      <td>1.734447</td>\n",
       "      <td>72.251528</td>\n",
       "    </tr>\n",
       "    <tr>\n",
       "      <th>min</th>\n",
       "      <td>17.00000</td>\n",
       "      <td>0.000000</td>\n",
       "      <td>1.000000</td>\n",
       "      <td>0.000000</td>\n",
       "      <td>0.000000</td>\n",
       "      <td>-3.400000</td>\n",
       "      <td>92.201000</td>\n",
       "      <td>-50.800000</td>\n",
       "      <td>0.634000</td>\n",
       "      <td>4963.600000</td>\n",
       "    </tr>\n",
       "    <tr>\n",
       "      <th>25%</th>\n",
       "      <td>32.00000</td>\n",
       "      <td>102.000000</td>\n",
       "      <td>1.000000</td>\n",
       "      <td>999.000000</td>\n",
       "      <td>0.000000</td>\n",
       "      <td>-1.800000</td>\n",
       "      <td>93.075000</td>\n",
       "      <td>-42.700000</td>\n",
       "      <td>1.344000</td>\n",
       "      <td>5099.100000</td>\n",
       "    </tr>\n",
       "    <tr>\n",
       "      <th>50%</th>\n",
       "      <td>38.00000</td>\n",
       "      <td>180.000000</td>\n",
       "      <td>2.000000</td>\n",
       "      <td>999.000000</td>\n",
       "      <td>0.000000</td>\n",
       "      <td>1.100000</td>\n",
       "      <td>93.749000</td>\n",
       "      <td>-41.800000</td>\n",
       "      <td>4.857000</td>\n",
       "      <td>5191.000000</td>\n",
       "    </tr>\n",
       "    <tr>\n",
       "      <th>75%</th>\n",
       "      <td>47.00000</td>\n",
       "      <td>319.000000</td>\n",
       "      <td>3.000000</td>\n",
       "      <td>999.000000</td>\n",
       "      <td>0.000000</td>\n",
       "      <td>1.400000</td>\n",
       "      <td>93.994000</td>\n",
       "      <td>-36.400000</td>\n",
       "      <td>4.961000</td>\n",
       "      <td>5228.100000</td>\n",
       "    </tr>\n",
       "    <tr>\n",
       "      <th>max</th>\n",
       "      <td>98.00000</td>\n",
       "      <td>4918.000000</td>\n",
       "      <td>56.000000</td>\n",
       "      <td>999.000000</td>\n",
       "      <td>7.000000</td>\n",
       "      <td>1.400000</td>\n",
       "      <td>94.767000</td>\n",
       "      <td>-26.900000</td>\n",
       "      <td>5.045000</td>\n",
       "      <td>5228.100000</td>\n",
       "    </tr>\n",
       "  </tbody>\n",
       "</table>\n",
       "</div>"
      ],
      "text/plain": [
       "               age      duration      campaign         pdays      previous  \\\n",
       "count  41188.00000  41188.000000  41188.000000  41188.000000  41188.000000   \n",
       "mean      40.02406    258.285010      2.567593    962.475454      0.172963   \n",
       "std       10.42125    259.279249      2.770014    186.910907      0.494901   \n",
       "min       17.00000      0.000000      1.000000      0.000000      0.000000   \n",
       "25%       32.00000    102.000000      1.000000    999.000000      0.000000   \n",
       "50%       38.00000    180.000000      2.000000    999.000000      0.000000   \n",
       "75%       47.00000    319.000000      3.000000    999.000000      0.000000   \n",
       "max       98.00000   4918.000000     56.000000    999.000000      7.000000   \n",
       "\n",
       "       emp.var.rate  cons.price.idx  cons.conf.idx     euribor3m   nr.employed  \n",
       "count  41188.000000    41188.000000   41188.000000  41188.000000  41188.000000  \n",
       "mean       0.081886       93.575664     -40.502600      3.621291   5167.035911  \n",
       "std        1.570960        0.578840       4.628198      1.734447     72.251528  \n",
       "min       -3.400000       92.201000     -50.800000      0.634000   4963.600000  \n",
       "25%       -1.800000       93.075000     -42.700000      1.344000   5099.100000  \n",
       "50%        1.100000       93.749000     -41.800000      4.857000   5191.000000  \n",
       "75%        1.400000       93.994000     -36.400000      4.961000   5228.100000  \n",
       "max        1.400000       94.767000     -26.900000      5.045000   5228.100000  "
      ]
     },
     "execution_count": 5,
     "metadata": {},
     "output_type": "execute_result"
    }
   ],
   "source": [
    "bank_df.describe()"
   ]
  },
  {
   "cell_type": "markdown",
   "metadata": {},
   "source": [
    "**Observations:** <br>\n",
    "1) Age of all the individuals is **>17** <br>\n",
    "2) Duration of the call varies a lot with **50% calls less than 3 minutes**, since we do not know the duration beforehand we drop the variable later <br>\n",
    "3) Most clients in the data have been **contacted for the first time** as we see from pdays and previous values <br>\n",
    "4) The consumer price index of less than 100 for all values shows there is **drop in inflation w.r.t. to the base year** <br>\n",
    "5) **Consumer confidence index shows all negative values**"
   ]
  },
  {
   "cell_type": "markdown",
   "metadata": {},
   "source": [
    "#### Categorical Variables"
   ]
  },
  {
   "cell_type": "code",
   "execution_count": 6,
   "metadata": {
    "ExecuteTime": {
     "end_time": "2020-06-22T05:32:53.264839Z",
     "start_time": "2020-06-22T05:32:53.177708Z"
    }
   },
   "outputs": [
    {
     "data": {
      "text/html": [
       "<div>\n",
       "<style scoped>\n",
       "    .dataframe tbody tr th:only-of-type {\n",
       "        vertical-align: middle;\n",
       "    }\n",
       "\n",
       "    .dataframe tbody tr th {\n",
       "        vertical-align: top;\n",
       "    }\n",
       "\n",
       "    .dataframe thead th {\n",
       "        text-align: right;\n",
       "    }\n",
       "</style>\n",
       "<table border=\"1\" class=\"dataframe\">\n",
       "  <thead>\n",
       "    <tr style=\"text-align: right;\">\n",
       "      <th></th>\n",
       "      <th>job</th>\n",
       "      <th>marital</th>\n",
       "      <th>education</th>\n",
       "      <th>default</th>\n",
       "      <th>housing</th>\n",
       "      <th>loan</th>\n",
       "      <th>contact</th>\n",
       "      <th>month</th>\n",
       "      <th>day_of_week</th>\n",
       "      <th>poutcome</th>\n",
       "      <th>y</th>\n",
       "    </tr>\n",
       "  </thead>\n",
       "  <tbody>\n",
       "    <tr>\n",
       "      <th>count</th>\n",
       "      <td>41188</td>\n",
       "      <td>41188</td>\n",
       "      <td>41188</td>\n",
       "      <td>41188</td>\n",
       "      <td>41188</td>\n",
       "      <td>41188</td>\n",
       "      <td>41188</td>\n",
       "      <td>41188</td>\n",
       "      <td>41188</td>\n",
       "      <td>41188</td>\n",
       "      <td>41188</td>\n",
       "    </tr>\n",
       "    <tr>\n",
       "      <th>unique</th>\n",
       "      <td>12</td>\n",
       "      <td>4</td>\n",
       "      <td>8</td>\n",
       "      <td>3</td>\n",
       "      <td>3</td>\n",
       "      <td>3</td>\n",
       "      <td>2</td>\n",
       "      <td>10</td>\n",
       "      <td>5</td>\n",
       "      <td>3</td>\n",
       "      <td>2</td>\n",
       "    </tr>\n",
       "    <tr>\n",
       "      <th>top</th>\n",
       "      <td>admin.</td>\n",
       "      <td>married</td>\n",
       "      <td>university.degree</td>\n",
       "      <td>no</td>\n",
       "      <td>yes</td>\n",
       "      <td>no</td>\n",
       "      <td>cellular</td>\n",
       "      <td>may</td>\n",
       "      <td>thu</td>\n",
       "      <td>nonexistent</td>\n",
       "      <td>no</td>\n",
       "    </tr>\n",
       "    <tr>\n",
       "      <th>freq</th>\n",
       "      <td>10422</td>\n",
       "      <td>24928</td>\n",
       "      <td>12168</td>\n",
       "      <td>32588</td>\n",
       "      <td>21576</td>\n",
       "      <td>33950</td>\n",
       "      <td>26144</td>\n",
       "      <td>13769</td>\n",
       "      <td>8623</td>\n",
       "      <td>35563</td>\n",
       "      <td>36548</td>\n",
       "    </tr>\n",
       "  </tbody>\n",
       "</table>\n",
       "</div>"
      ],
      "text/plain": [
       "           job  marital          education default housing   loan   contact  \\\n",
       "count    41188    41188              41188   41188   41188  41188     41188   \n",
       "unique      12        4                  8       3       3      3         2   \n",
       "top     admin.  married  university.degree      no     yes     no  cellular   \n",
       "freq     10422    24928              12168   32588   21576  33950     26144   \n",
       "\n",
       "        month day_of_week     poutcome      y  \n",
       "count   41188       41188        41188  41188  \n",
       "unique     10           5            3      2  \n",
       "top       may         thu  nonexistent     no  \n",
       "freq    13769        8623        35563  36548  "
      ]
     },
     "execution_count": 6,
     "metadata": {},
     "output_type": "execute_result"
    }
   ],
   "source": [
    "bank_df.describe(include = [\"O\"])"
   ]
  },
  {
   "cell_type": "markdown",
   "metadata": {},
   "source": [
    "**Observations:** <br>\n",
    "1) Most common job is **admin.** <br>\n",
    "2) Most of the people in the data are **married** <br>\n",
    "3) As expected most of the people have **not defaulted** <br>\n",
    "4) Most of the people have a **housing loan** <br>\n",
    "5) Most common way of contacting people is through a **cellular device** <br>\n",
    "6) Most of the calls were made in the month of **May** <br>\n",
    "7) Since most of the calls are made for the first time, **poutcome has nonexistent as the most common value** <br>\n",
    "8) The outcome variable y has most of the values as no, **indicating an unbalanced dataset** "
   ]
  },
  {
   "cell_type": "markdown",
   "metadata": {},
   "source": [
    "## Analysing variables and Encoding"
   ]
  },
  {
   "cell_type": "code",
   "execution_count": 7,
   "metadata": {
    "ExecuteTime": {
     "end_time": "2020-06-22T05:32:53.301868Z",
     "start_time": "2020-06-22T05:32:53.291409Z"
    }
   },
   "outputs": [],
   "source": [
    "#Saving the original dataframe before any changes \n",
    "bank_df2 = bank_df.copy()"
   ]
  },
  {
   "cell_type": "markdown",
   "metadata": {},
   "source": [
    "### Continuous variables "
   ]
  },
  {
   "cell_type": "code",
   "execution_count": 8,
   "metadata": {
    "ExecuteTime": {
     "end_time": "2020-06-22T05:32:54.299209Z",
     "start_time": "2020-06-22T05:32:53.765034Z"
    }
   },
   "outputs": [
    {
     "data": {
      "image/png": "[encoded data removed]",
      "text/plain": [
       "<Figure size 1152x288 with 3 Axes>"
      ]
     },
     "metadata": {
      "needs_background": "light"
     },
     "output_type": "display_data"
    }
   ],
   "source": [
    "fig, ax = plt.subplots(1,3, figsize = (16,4))\n",
    "sns.distplot(bank_df[\"age\"], ax = ax[0])\n",
    "sns.distplot(bank_df[\"campaign\"], ax = ax[1])\n",
    "sns.distplot(bank_df[\"pdays\"], kde = 0, ax = ax[2]);"
   ]
  },
  {
   "cell_type": "markdown",
   "metadata": {},
   "source": [
    "pdays has just 2 values and since we already have previous attribute, we can drop pdays"
   ]
  },
  {
   "cell_type": "code",
   "execution_count": 9,
   "metadata": {
    "ExecuteTime": {
     "end_time": "2020-06-22T05:32:54.834861Z",
     "start_time": "2020-06-22T05:32:54.301203Z"
    }
   },
   "outputs": [
    {
     "data": {
      "image/png": "[encoded data removed]",
      "text/plain": [
       "<Figure size 1152x288 with 3 Axes>"
      ]
     },
     "metadata": {
      "needs_background": "light"
     },
     "output_type": "display_data"
    }
   ],
   "source": [
    "fig, ax = plt.subplots(1,3, figsize = (16,4))\n",
    "sns.distplot(bank_df[\"previous\"], kde = 0, ax = ax[0])\n",
    "sns.distplot(bank_df[\"emp.var.rate\"], kde = 0, ax = ax[1])\n",
    "sns.distplot(bank_df[\"cons.price.idx\"], kde = 0, ax = ax[2]);"
   ]
  },
  {
   "cell_type": "code",
   "execution_count": 10,
   "metadata": {
    "ExecuteTime": {
     "end_time": "2020-06-22T05:32:55.452654Z",
     "start_time": "2020-06-22T05:32:54.984136Z"
    }
   },
   "outputs": [
    {
     "data": {
      "image/png": "[encoded data removed]",
      "text/plain": [
       "<Figure size 1152x288 with 3 Axes>"
      ]
     },
     "metadata": {
      "needs_background": "light"
     },
     "output_type": "display_data"
    }
   ],
   "source": [
    "fig, ax = plt.subplots(1,3, figsize = (16,4))\n",
    "sns.distplot(bank_df[\"cons.conf.idx\"], kde = 0, ax = ax[0])\n",
    "sns.distplot(bank_df[\"euribor3m\"], kde = 0, ax = ax[1])\n",
    "sns.distplot(bank_df[\"nr.employed\"], kde = 0, ax = ax[2]);"
   ]
  },
  {
   "cell_type": "markdown",
   "metadata": {},
   "source": [
    "### Categorical Variables"
   ]
  },
  {
   "cell_type": "markdown",
   "metadata": {},
   "source": [
    "We check the counts of different variables, we do not encode it so as to not lose information"
   ]
  },
  {
   "cell_type": "markdown",
   "metadata": {},
   "source": [
    "#### Job and Marital-status"
   ]
  },
  {
   "cell_type": "code",
   "execution_count": 11,
   "metadata": {
    "ExecuteTime": {
     "end_time": "2020-06-22T05:32:56.580891Z",
     "start_time": "2020-06-22T05:32:56.002256Z"
    }
   },
   "outputs": [
    {
     "data": {
      "image/png": "[encoded data removed]",
      "text/plain": [
       "<Figure size 1152x288 with 2 Axes>"
      ]
     },
     "metadata": {
      "needs_background": "light"
     },
     "output_type": "display_data"
    }
   ],
   "source": [
    "fig, ax = plt.subplots(1,2,figsize = (16,4))\n",
    "ax[0].bar(x = bank_df[\"job\"].value_counts(normalize = True).index, height= bank_df[\"job\"].value_counts(normalize = True)*100)\n",
    "ax[0].tick_params('x',labelrotation=45)\n",
    "ax[0].set_title(\"Percentage of job types\")\n",
    "ax[1].bar(x = bank_df[\"education\"].value_counts(normalize = True).index, height= bank_df[\"education\"].value_counts(normalize = True)*100)\n",
    "ax[1].tick_params('x',labelrotation=45)\n",
    "ax[1].set_title(\"Percentage of Education levels\");"
   ]
  },
  {
   "cell_type": "markdown",
   "metadata": {},
   "source": [
    "#### Education and Default"
   ]
  },
  {
   "cell_type": "code",
   "execution_count": 12,
   "metadata": {
    "ExecuteTime": {
     "end_time": "2020-06-22T05:32:57.129152Z",
     "start_time": "2020-06-22T05:32:56.815608Z"
    }
   },
   "outputs": [
    {
     "data": {
      "image/png": "[encoded data removed]",
      "text/plain": [
       "<Figure size 1152x288 with 3 Axes>"
      ]
     },
     "metadata": {
      "needs_background": "light"
     },
     "output_type": "display_data"
    }
   ],
   "source": [
    "fig, ax = plt.subplots(1,3,figsize = (16,4))\n",
    "ax[0].bar(x = bank_df[\"marital\"].value_counts(normalize = True).index, height= bank_df[\"marital\"].value_counts(normalize = True)*100)\n",
    "ax[0].tick_params('x',labelrotation=45)\n",
    "ax[0].set_title(\"Percentage of Marital Status\")\n",
    "ax[1].bar(x = bank_df[\"default\"].value_counts(normalize = True).index, height= bank_df[\"default\"].value_counts(normalize = True)*100)\n",
    "ax[1].tick_params('x',labelrotation=45)\n",
    "ax[1].set_title(\"Percentage by default type\")\n",
    "ax[2].bar(x = bank_df[\"housing\"].value_counts(normalize = True).index, height= bank_df[\"housing\"].value_counts(normalize = True)*100)\n",
    "ax[2].tick_params('x',labelrotation=45)\n",
    "ax[2].set_title(\"Percentage of Housing loan status\");"
   ]
  },
  {
   "cell_type": "markdown",
   "metadata": {},
   "source": [
    "#### Housing loan and Personal loan"
   ]
  },
  {
   "cell_type": "code",
   "execution_count": 13,
   "metadata": {
    "ExecuteTime": {
     "end_time": "2020-06-22T05:32:58.201166Z",
     "start_time": "2020-06-22T05:32:57.979678Z"
    }
   },
   "outputs": [
    {
     "data": {
      "image/png": "[encoded data removed]",
      "text/plain": [
       "<Figure size 1152x288 with 3 Axes>"
      ]
     },
     "metadata": {
      "needs_background": "light"
     },
     "output_type": "display_data"
    }
   ],
   "source": [
    "fig, ax = plt.subplots(1,3,figsize = (16,4))\n",
    "ax[0].bar(x = bank_df[\"loan\"].value_counts(normalize = True).index, height= bank_df[\"loan\"].value_counts(normalize = True)*100)\n",
    "ax[0].tick_params('x',labelrotation=45)\n",
    "ax[0].set_title(\"Percentage of Personal loan status\")\n",
    "ax[1].bar(x = bank_df[\"contact\"].value_counts(normalize = True).index, height= bank_df[\"contact\"].value_counts(normalize = True)*100)\n",
    "ax[1].tick_params('x',labelrotation=45)\n",
    "ax[1].set_title(\"Percentage of Contact type\")\n",
    "ax[2].bar(x = bank_df[\"poutcome\"].value_counts(normalize = True).index, height= bank_df[\"poutcome\"].value_counts(normalize = True)*100)\n",
    "ax[2].tick_params('x',labelrotation=45)\n",
    "ax[2].set_title(\"Percentage of contacts by month\");"
   ]
  },
  {
   "cell_type": "code",
   "execution_count": 14,
   "metadata": {
    "ExecuteTime": {
     "end_time": "2020-06-22T05:32:58.955117Z",
     "start_time": "2020-06-22T05:32:58.748471Z"
    }
   },
   "outputs": [
    {
     "data": {
      "image/png": "[encoded data removed]",
      "text/plain": [
       "<Figure size 1152x288 with 2 Axes>"
      ]
     },
     "metadata": {
      "needs_background": "light"
     },
     "output_type": "display_data"
    }
   ],
   "source": [
    "fig, ax = plt.subplots(1,2,figsize = (16,4))\n",
    "ax[0].bar(x = bank_df[\"day_of_week\"].value_counts(normalize = True).index, height= bank_df[\"day_of_week\"].value_counts(normalize = True)*100)\n",
    "ax[0].tick_params('x',labelrotation=45)\n",
    "ax[0].set_title(\"Percentage of contacts by Day\")\n",
    "ax[1].bar(x = bank_df[\"month\"].value_counts(normalize = True).index, height= bank_df[\"month\"].value_counts(normalize = True)*100)\n",
    "ax[1].tick_params('x',labelrotation=45)\n",
    "ax[1].set_title(\"Percentage of contacts by Month\");"
   ]
  },
  {
   "cell_type": "markdown",
   "metadata": {},
   "source": [
    "#### Class (Y)"
   ]
  },
  {
   "cell_type": "code",
   "execution_count": 15,
   "metadata": {
    "ExecuteTime": {
     "end_time": "2020-06-22T05:32:59.314039Z",
     "start_time": "2020-06-22T05:32:59.240423Z"
    }
   },
   "outputs": [
    {
     "data": {
      "image/png": "[encoded data removed]",
      "text/plain": [
       "<Figure size 432x288 with 1 Axes>"
      ]
     },
     "metadata": {
      "needs_background": "light"
     },
     "output_type": "display_data"
    }
   ],
   "source": [
    "plt.figure(figsize = (6,4))\n",
    "plt.bar(x = bank_df[\"y\"].value_counts(normalize = True).index, height= bank_df[\"y\"].value_counts(normalize = True)*100)\n",
    "plt.title(\"Percentage of y\");"
   ]
  },
  {
   "cell_type": "markdown",
   "metadata": {},
   "source": [
    "## Dropping variables "
   ]
  },
  {
   "cell_type": "markdown",
   "metadata": {},
   "source": [
    "In this section, we drop variables which have been identified as irrelevant or redundant because of other variables "
   ]
  },
  {
   "cell_type": "markdown",
   "metadata": {},
   "source": [
    "### Duration - as we do not have duration before making a call"
   ]
  },
  {
   "cell_type": "code",
   "execution_count": 16,
   "metadata": {
    "ExecuteTime": {
     "end_time": "2020-06-22T05:33:00.286933Z",
     "start_time": "2020-06-22T05:33:00.276960Z"
    }
   },
   "outputs": [],
   "source": [
    "bank_df.drop(\"duration\", axis = 1, inplace = True)"
   ]
  },
  {
   "cell_type": "markdown",
   "metadata": {},
   "source": [
    "### pdays - as we already have previous attribute capturing similar information"
   ]
  },
  {
   "cell_type": "code",
   "execution_count": 17,
   "metadata": {
    "ExecuteTime": {
     "end_time": "2020-06-22T05:33:00.783370Z",
     "start_time": "2020-06-22T05:33:00.771381Z"
    }
   },
   "outputs": [],
   "source": [
    "bank_df.drop(\"pdays\", axis = 1, inplace  =True)"
   ]
  },
  {
   "cell_type": "markdown",
   "metadata": {},
   "source": [
    "## One-hot encoding of categorical variables \n",
    "We encode categorical variables using one-hot encoding so make the data usable for a classifier"
   ]
  },
  {
   "cell_type": "code",
   "execution_count": 18,
   "metadata": {
    "ExecuteTime": {
     "end_time": "2020-06-22T05:33:01.255397Z",
     "start_time": "2020-06-22T05:33:01.242248Z"
    }
   },
   "outputs": [],
   "source": [
    "X  = bank_df.loc[:,bank_df.columns!=\"y\"]\n",
    "y_dict = {\"yes\":1, \"no\":0}\n",
    "y = [y_dict[i] for i in bank_df[\"y\"]]"
   ]
  },
  {
   "cell_type": "code",
   "execution_count": 19,
   "metadata": {
    "ExecuteTime": {
     "end_time": "2020-06-22T05:33:01.525173Z",
     "start_time": "2020-06-22T05:33:01.488271Z"
    }
   },
   "outputs": [],
   "source": [
    "X = pd.get_dummies(X)"
   ]
  },
  {
   "cell_type": "code",
   "execution_count": 20,
   "metadata": {
    "ExecuteTime": {
     "end_time": "2020-06-22T05:33:01.770015Z",
     "start_time": "2020-06-22T05:33:01.718846Z"
    }
   },
   "outputs": [],
   "source": [
    "#One-hot encoding, we drop one variable which is redundant to avoid issues of multicollinearity \n",
    "X.drop(\"job_unknown\", axis = 1, inplace = True)\n",
    "X.drop(\"marital_unknown\", axis = 1, inplace = True)\n",
    "X.drop(\"education_unknown\", axis = 1, inplace = True)\n",
    "X.drop(\"default_unknown\", axis = 1, inplace = True)\n",
    "X.drop(\"housing_unknown\", axis = 1, inplace = True)\n",
    "X.drop(\"loan_unknown\", axis = 1, inplace = True)\n",
    "X.drop(\"contact_telephone\", axis = 1, inplace = True)\n",
    "X.drop(\"month_dec\", axis = 1, inplace = True)\n",
    "X.drop(\"day_of_week_fri\", axis = 1, inplace = True)\n",
    "X.drop(\"poutcome_nonexistent\", axis = 1, inplace = True)"
   ]
  },
  {
   "cell_type": "markdown",
   "metadata": {},
   "source": [
    "## Dividing train and test set \n",
    "We divide the data in two parts train and test set"
   ]
  },
  {
   "cell_type": "code",
   "execution_count": 21,
   "metadata": {
    "ExecuteTime": {
     "end_time": "2020-06-22T05:33:02.201410Z",
     "start_time": "2020-06-22T05:33:02.198606Z"
    }
   },
   "outputs": [],
   "source": [
    "random_state = 24"
   ]
  },
  {
   "cell_type": "code",
   "execution_count": 22,
   "metadata": {
    "ExecuteTime": {
     "end_time": "2020-06-22T05:33:02.456123Z",
     "start_time": "2020-06-22T05:33:02.421302Z"
    }
   },
   "outputs": [],
   "source": [
    "#Stratified sample to keep the proportion of data same in training and test set\n",
    "X_train, X_test, y_train, y_test = train_test_split(X,y, random_state = random_state, test_size = 0.2, stratify = y)"
   ]
  },
  {
   "cell_type": "markdown",
   "metadata": {},
   "source": [
    "## Feature Importance"
   ]
  },
  {
   "cell_type": "markdown",
   "metadata": {},
   "source": [
    "In this section, we try to find out important features for model building. This will be used for all the analysis "
   ]
  },
  {
   "cell_type": "markdown",
   "metadata": {},
   "source": [
    "### Implementation of random forest classifier and check feature importance <br>\n",
    "We compare the performance of the classifier using the feature and comparing it with its randomly permuted copies"
   ]
  },
  {
   "cell_type": "code",
   "execution_count": 23,
   "metadata": {
    "ExecuteTime": {
     "end_time": "2020-06-22T05:35:46.117378Z",
     "start_time": "2020-06-22T05:33:03.530593Z"
    }
   },
   "outputs": [],
   "source": [
    "rf = RandomForestClassifier()\n",
    "rf.fit(X_train, y_train)\n",
    "result = permutation_importance(rf, X_train, y_train, n_repeats=5)\n",
    "sorted_idx = result.importances_mean.argsort()"
   ]
  },
  {
   "cell_type": "code",
   "execution_count": 24,
   "metadata": {
    "ExecuteTime": {
     "end_time": "2020-06-22T05:35:46.945034Z",
     "start_time": "2020-06-22T05:35:46.118733Z"
    },
    "scrolled": true
   },
   "outputs": [
    {
     "data": {
      "image/png": "[encoded data removed]",
      "text/plain": [
       "<Figure size 864x720 with 1 Axes>"
      ]
     },
     "metadata": {
      "needs_background": "light"
     },
     "output_type": "display_data"
    }
   ],
   "source": [
    "fig, ax = plt.subplots(figsize = (12,10))\n",
    "ax.boxplot(result.importances[sorted_idx].T,\n",
    "           vert=False, labels=X_train.columns[sorted_idx])\n",
    "ax.set_title(\"Permutation Importance of features\")\n",
    "fig.tight_layout()\n",
    "plt.show()"
   ]
  },
  {
   "cell_type": "code",
   "execution_count": 25,
   "metadata": {
    "ExecuteTime": {
     "end_time": "2020-06-22T05:35:46.955971Z",
     "start_time": "2020-06-22T05:35:46.946995Z"
    }
   },
   "outputs": [],
   "source": [
    "features_selected = list(X_train.columns[result.importances_mean > 0.01])\n",
    "features_imp = list(X_train.columns[sorted_idx][-10:])[::-1]\n",
    "X_train = X_train.loc[:, features_selected]\n",
    "X_test = X_test.loc[:, features_selected]"
   ]
  },
  {
   "cell_type": "markdown",
   "metadata": {},
   "source": [
    "# Inferential Analysis\n"
   ]
  },
  {
   "cell_type": "markdown",
   "metadata": {},
   "source": [
    "## Important factors impacting term deposit conversion"
   ]
  },
  {
   "cell_type": "code",
   "execution_count": 26,
   "metadata": {
    "ExecuteTime": {
     "end_time": "2020-06-22T05:35:46.961009Z",
     "start_time": "2020-06-22T05:35:46.956968Z"
    }
   },
   "outputs": [
    {
     "data": {
      "text/plain": [
       "['euribor3m',\n",
       " 'age',\n",
       " 'campaign',\n",
       " 'contact_cellular',\n",
       " 'nr.employed',\n",
       " 'housing_no',\n",
       " 'housing_yes',\n",
       " 'education_university.degree',\n",
       " 'emp.var.rate',\n",
       " 'marital_married']"
      ]
     },
     "execution_count": 26,
     "metadata": {},
     "output_type": "execute_result"
    }
   ],
   "source": [
    "features_imp"
   ]
  },
  {
   "cell_type": "code",
   "execution_count": 27,
   "metadata": {
    "ExecuteTime": {
     "end_time": "2020-06-22T05:35:47.929581Z",
     "start_time": "2020-06-22T05:35:46.961991Z"
    }
   },
   "outputs": [
    {
     "data": {
      "image/png": "[encoded data removed]",
      "text/plain": [
       "<Figure size 1440x2016 with 8 Axes>"
      ]
     },
     "metadata": {
      "needs_background": "light"
     },
     "output_type": "display_data"
    }
   ],
   "source": [
    "fig, ax = plt.subplots(4,2, figsize=(20,28))\n",
    "\n",
    "quantiles = pd.qcut(X_train['euribor3m'], q= 4, precision = 0)\n",
    "s0 = sns.countplot(quantiles, hue = y_train, ax = ax[0][0])\n",
    "s0.set_xlabel(None)\n",
    "s0.set_title(\"Euribor rate by term deposit\",fontsize=15)\n",
    "s0.legend([\"No\", \"Yes\"], title =\"Term Deposit\");\n",
    "\n",
    "quantiles = pd.qcut(X_train['age'], q=4, precision = 0)\n",
    "s1 = sns.countplot(quantiles, hue = y_train, ax = ax[0][1])\n",
    "s1.set_xlabel(None)\n",
    "s1.set_title(\"Age quantiles by term deposit\",fontsize=15)\n",
    "s1.legend([\"No\", \"Yes\"], title =\"Term Deposit\");\n",
    "\n",
    "quantiles = pd.qcut(X_train['campaign'], q=8, precision = 0, duplicates = \"drop\")\n",
    "s2 = sns.countplot(quantiles, hue = y_train, ax = ax[1][0])\n",
    "s2.set_xlabel(None)\n",
    "s2.set_title(\"Campaign days by term deposit\",fontsize=15)\n",
    "s2.legend([\"No\", \"Yes\"], title =\"Term Deposit\");\n",
    "\n",
    "s3 = sns.countplot(X_train[\"contact_cellular\"], hue = y_train, ax = ax[1][1])\n",
    "s3.set_xlabel(None)\n",
    "s3.set_xticklabels([\"Cellular\", \"Telephone\"])\n",
    "s3.set_title(\"Contact type by term deposit\",fontsize=15)\n",
    "s3.legend([\"No\", \"Yes\"], title =\"Term Deposit\");\n",
    "\n",
    "quantiles = pd.qcut(X_train['emp.var.rate'], q=4,duplicates = \"drop\")\n",
    "s4 = sns.countplot(quantiles, hue = y_train, ax = ax[2][0])\n",
    "s4.set_xlabel(None)\n",
    "s4.set_title(\"Employement variation rate by term deposit\",fontsize=15)\n",
    "\n",
    "\n",
    "s5 = sns.countplot(X_train[\"housing_yes\"], hue = y_train, ax = ax[2][1])\n",
    "s5.set_xlabel(None)\n",
    "s5.set_xticklabels([\"Housing Loan\", \"No Housing Loan\"])\n",
    "s5.set_title(\"Housing Loan by term deposit\",fontsize=15)\n",
    "s5.legend([\"No\", \"Yes\"], title =\"Term Deposit\");\n",
    "\n",
    "\n",
    "quantiles = pd.qcut(X_train['nr.employed'], q= 4,duplicates = \"drop\", precision = 0)\n",
    "s6 = sns.countplot(quantiles, hue = y_train, ax = ax[3][0])\n",
    "s6.set_xlabel(None)\n",
    "s6.set_title(\"Number of employees by term deposit\",fontsize=15)\n",
    "s6.legend([\"No\", \"Yes\"], title =\"Term Deposit\");\n",
    "\n",
    "s7 = sns.countplot(X_train[\"education_university.degree\"], hue = y_train, ax = ax[3][1])\n",
    "s7.set_xlabel(None)\n",
    "s7.set_xticklabels([\"University Degree\", \"Others\"])\n",
    "s7.set_title(\"Education type by term deposit\",fontsize=15)\n",
    "s7.legend([\"No\", \"Yes\"], title =\"Term Deposit\");"
   ]
  },
  {
   "cell_type": "code",
   "execution_count": 28,
   "metadata": {
    "ExecuteTime": {
     "end_time": "2020-06-22T05:35:48.046615Z",
     "start_time": "2020-06-22T05:35:47.930550Z"
    }
   },
   "outputs": [
    {
     "data": {
      "image/png": "[encoded data removed]",
      "text/plain": [
       "<Figure size 432x288 with 1 Axes>"
      ]
     },
     "metadata": {
      "needs_background": "light"
     },
     "output_type": "display_data"
    }
   ],
   "source": [
    "plt.figure(figsize = (6,4))\n",
    "s8 = sns.countplot(X_train[\"marital_married\"], hue = y_train)\n",
    "s8.set_xlabel(None)\n",
    "s8.set_xticklabels([\"Married\", \"Others\"])\n",
    "s8.set_title(\"Marital Status by term deposit\",fontsize=15)\n",
    "s8.legend([\"No\", \"Yes\"], title =\"Term Deposit\");"
   ]
  },
  {
   "cell_type": "markdown",
   "metadata": {},
   "source": [
    "**Observations:** <br>\n",
    "- **Euribor rate is low** there is higher chance of term deposit <br>\n",
    "- **Older age** people have slighly higher chance of term deposit <br>\n",
    "- **Telephone** contact type has higher chance of term deposit <br>\n",
    "- **Lower employment variation rate** higher the chance of term deposit <br>\n",
    "- **Lesser number of employees** higher the chance of term deposit <br> \n",
    "- **Married people have higher chance** of having a term deposit <br>"
   ]
  },
  {
   "cell_type": "markdown",
   "metadata": {},
   "source": [
    "# Predictive Modeling "
   ]
  },
  {
   "cell_type": "markdown",
   "metadata": {},
   "source": [
    "In this section, we build models so as to predict whether a call would result into a subscription of term deposit based on the selected attributes\n",
    "<br>\n",
    "\n",
    "Metric:\n",
    "- Precision-Recall AUC: Area under the curve, more the area better it is \n",
    "- F1-Score: Harmonic mean of precision and recall as defined above <br>\n",
    "\n",
    "\n",
    "Steps: \n",
    "- Fit training data\n",
    "- Tune hyperparameters to get a good area under the curve\n",
    "- Compare different models in terms of area under the curve "
   ]
  },
  {
   "cell_type": "markdown",
   "metadata": {},
   "source": [
    "## Defining Metrics"
   ]
  },
  {
   "cell_type": "code",
   "execution_count": 29,
   "metadata": {
    "ExecuteTime": {
     "end_time": "2020-06-22T05:35:48.051601Z",
     "start_time": "2020-06-22T05:35:48.047613Z"
    }
   },
   "outputs": [],
   "source": [
    "def pr_auc(y, probabilities):\n",
    "    precision, recall, _ = precision_recall_curve(y, probabilities)\n",
    "    return auc(recall, precision)"
   ]
  },
  {
   "cell_type": "code",
   "execution_count": 86,
   "metadata": {
    "ExecuteTime": {
     "end_time": "2020-06-22T05:59:29.964508Z",
     "start_time": "2020-06-22T05:59:29.959521Z"
    }
   },
   "outputs": [],
   "source": [
    "def max_f1(precision, recall):\n",
    "    max_f1 = 0\n",
    "    for p,r in zip(precision, recall):\n",
    "        if (p+r) == 0:\n",
    "            f1_score = 0\n",
    "        else:\n",
    "            f1_score = 2*p*r / (p+r)\n",
    "        if max_f1 < f1_score:\\\n",
    "            max_f1 = f1_score\n",
    "    return max_f1"
   ]
  },
  {
   "cell_type": "markdown",
   "metadata": {},
   "source": [
    "## Normalizing Data"
   ]
  },
  {
   "cell_type": "code",
   "execution_count": 87,
   "metadata": {
    "ExecuteTime": {
     "end_time": "2020-06-22T05:59:30.663941Z",
     "start_time": "2020-06-22T05:59:30.637291Z"
    }
   },
   "outputs": [],
   "source": [
    "scaler = MinMaxScaler()\n",
    "scaler.fit(X_train)\n",
    "X_train_n = scaler.transform(X_train)\n",
    "X_test_n = scaler.transform(X_test)"
   ]
  },
  {
   "cell_type": "markdown",
   "metadata": {},
   "source": [
    "## Models "
   ]
  },
  {
   "cell_type": "markdown",
   "metadata": {},
   "source": [
    "### Null model\n",
    "Baseline model: This serves as a comparison for other models. We predict randomly based on the probability of the class we have from the input as a bernoulli trial"
   ]
  },
  {
   "cell_type": "code",
   "execution_count": 88,
   "metadata": {
    "ExecuteTime": {
     "end_time": "2020-06-22T05:59:31.678169Z",
     "start_time": "2020-06-22T05:59:31.669133Z"
    }
   },
   "outputs": [],
   "source": [
    "summary = pd.DataFrame(columns = [\"Model\", \"PR-AUC\", \"F1-Score\"])\n",
    "base_0 = np.random.binomial(1, np.mean(y_train), size = len(y_test))\n",
    "preds = base_0"
   ]
  },
  {
   "cell_type": "code",
   "execution_count": 89,
   "metadata": {
    "ExecuteTime": {
     "end_time": "2020-06-22T05:59:32.355855Z",
     "start_time": "2020-06-22T05:59:32.349826Z"
    }
   },
   "outputs": [],
   "source": [
    "null_precision, null_recall, _ = precision_recall_curve(y_test, base_0)\n",
    "auc_score = np.round(auc(null_recall, null_precision),2)\n",
    "f1 = np.round(max_f1(null_precision, null_recall),2)"
   ]
  },
  {
   "cell_type": "code",
   "execution_count": 90,
   "metadata": {
    "ExecuteTime": {
     "end_time": "2020-06-22T05:59:32.622098Z",
     "start_time": "2020-06-22T05:59:32.612130Z"
    }
   },
   "outputs": [],
   "source": [
    "summary = summary.append({\"Model\":\"Null\",\"PR-AUC\": auc_score, \"F1-Score\":f1}, ignore_index=  True)"
   ]
  },
  {
   "cell_type": "code",
   "execution_count": 91,
   "metadata": {
    "ExecuteTime": {
     "end_time": "2020-06-22T05:59:32.862005Z",
     "start_time": "2020-06-22T05:59:32.854027Z"
    }
   },
   "outputs": [
    {
     "data": {
      "text/html": [
       "<div>\n",
       "<style scoped>\n",
       "    .dataframe tbody tr th:only-of-type {\n",
       "        vertical-align: middle;\n",
       "    }\n",
       "\n",
       "    .dataframe tbody tr th {\n",
       "        vertical-align: top;\n",
       "    }\n",
       "\n",
       "    .dataframe thead th {\n",
       "        text-align: right;\n",
       "    }\n",
       "</style>\n",
       "<table border=\"1\" class=\"dataframe\">\n",
       "  <thead>\n",
       "    <tr style=\"text-align: right;\">\n",
       "      <th></th>\n",
       "      <th>Model</th>\n",
       "      <th>PR-AUC</th>\n",
       "      <th>F1-Score</th>\n",
       "    </tr>\n",
       "  </thead>\n",
       "  <tbody>\n",
       "    <tr>\n",
       "      <th>0</th>\n",
       "      <td>Null</td>\n",
       "      <td>0.16</td>\n",
       "      <td>0.2</td>\n",
       "    </tr>\n",
       "  </tbody>\n",
       "</table>\n",
       "</div>"
      ],
      "text/plain": [
       "  Model  PR-AUC  F1-Score\n",
       "0  Null    0.16       0.2"
      ]
     },
     "execution_count": 91,
     "metadata": {},
     "output_type": "execute_result"
    }
   ],
   "source": [
    "summary"
   ]
  },
  {
   "cell_type": "markdown",
   "metadata": {},
   "source": [
    "### Decision Tree "
   ]
  },
  {
   "cell_type": "code",
   "execution_count": 92,
   "metadata": {
    "ExecuteTime": {
     "end_time": "2020-06-22T05:59:34.527131Z",
     "start_time": "2020-06-22T05:59:34.522146Z"
    }
   },
   "outputs": [],
   "source": [
    "param_grid = {\"max_depth\": [2,5,10,20], \"ccp_alpha\":[0,0.1,0.5]}"
   ]
  },
  {
   "cell_type": "code",
   "execution_count": 93,
   "metadata": {
    "ExecuteTime": {
     "end_time": "2020-06-22T05:59:38.710241Z",
     "start_time": "2020-06-22T05:59:34.799850Z"
    }
   },
   "outputs": [],
   "source": [
    "dt = DecisionTreeClassifier()\n",
    "gs_model = GridSearchCV(dt,param_grid, scoring = make_scorer(pr_auc), cv = 5)\n",
    "gs_model.fit(X_train_n, y_train)\n",
    "dt.set_params(**gs_model.best_params_)\n",
    "dt.fit(X_train_n, y_train);"
   ]
  },
  {
   "cell_type": "code",
   "execution_count": 94,
   "metadata": {
    "ExecuteTime": {
     "end_time": "2020-06-22T05:59:38.719730Z",
     "start_time": "2020-06-22T05:59:38.711240Z"
    }
   },
   "outputs": [],
   "source": [
    "dt_precision, dt_recall, _ = precision_recall_curve(y_test, dt.predict_proba(X_test_n)[:,1])\n",
    "auc_score = np.round(auc(dt_recall, dt_precision),2)\n",
    "f1 = np.round(max_f1(dt_precision, dt_recall),2)"
   ]
  },
  {
   "cell_type": "code",
   "execution_count": 95,
   "metadata": {
    "ExecuteTime": {
     "end_time": "2020-06-22T05:59:38.732511Z",
     "start_time": "2020-06-22T05:59:38.720689Z"
    }
   },
   "outputs": [],
   "source": [
    "summary = summary.append({\"Model\":\"Decision Tree\",\"PR-AUC\": auc_score,\"F1-Score\":f1}, ignore_index=  True)"
   ]
  },
  {
   "cell_type": "code",
   "execution_count": 96,
   "metadata": {
    "ExecuteTime": {
     "end_time": "2020-06-22T05:59:38.743708Z",
     "start_time": "2020-06-22T05:59:38.733507Z"
    }
   },
   "outputs": [
    {
     "data": {
      "text/html": [
       "<div>\n",
       "<style scoped>\n",
       "    .dataframe tbody tr th:only-of-type {\n",
       "        vertical-align: middle;\n",
       "    }\n",
       "\n",
       "    .dataframe tbody tr th {\n",
       "        vertical-align: top;\n",
       "    }\n",
       "\n",
       "    .dataframe thead th {\n",
       "        text-align: right;\n",
       "    }\n",
       "</style>\n",
       "<table border=\"1\" class=\"dataframe\">\n",
       "  <thead>\n",
       "    <tr style=\"text-align: right;\">\n",
       "      <th></th>\n",
       "      <th>Model</th>\n",
       "      <th>PR-AUC</th>\n",
       "      <th>F1-Score</th>\n",
       "    </tr>\n",
       "  </thead>\n",
       "  <tbody>\n",
       "    <tr>\n",
       "      <th>0</th>\n",
       "      <td>Null</td>\n",
       "      <td>0.16</td>\n",
       "      <td>0.20</td>\n",
       "    </tr>\n",
       "    <tr>\n",
       "      <th>1</th>\n",
       "      <td>Decision Tree</td>\n",
       "      <td>0.48</td>\n",
       "      <td>0.46</td>\n",
       "    </tr>\n",
       "  </tbody>\n",
       "</table>\n",
       "</div>"
      ],
      "text/plain": [
       "           Model  PR-AUC  F1-Score\n",
       "0           Null    0.16      0.20\n",
       "1  Decision Tree    0.48      0.46"
      ]
     },
     "execution_count": 96,
     "metadata": {},
     "output_type": "execute_result"
    }
   ],
   "source": [
    "summary"
   ]
  },
  {
   "cell_type": "markdown",
   "metadata": {},
   "source": [
    "### Logistic Regression "
   ]
  },
  {
   "cell_type": "code",
   "execution_count": 97,
   "metadata": {
    "ExecuteTime": {
     "end_time": "2020-06-22T05:59:38.751311Z",
     "start_time": "2020-06-22T05:59:38.744705Z"
    }
   },
   "outputs": [],
   "source": [
    "param_grid = {\"C\":[0.1,0.5,1,2,5], \"penalty\":[\"l2\"]}"
   ]
  },
  {
   "cell_type": "code",
   "execution_count": 98,
   "metadata": {
    "ExecuteTime": {
     "end_time": "2020-06-22T05:59:44.041941Z",
     "start_time": "2020-06-22T05:59:38.932926Z"
    }
   },
   "outputs": [],
   "source": [
    "lr = LogisticRegression(max_iter = 1000)\n",
    "gs_model = GridSearchCV(lr, param_grid, scoring = make_scorer(pr_auc), cv = 5)\n",
    "gs_model.fit(X_train_n, y_train)\n",
    "lr.set_params(**gs_model.best_params_)\n",
    "lr.fit(X_train_n, y_train);"
   ]
  },
  {
   "cell_type": "code",
   "execution_count": 100,
   "metadata": {
    "ExecuteTime": {
     "end_time": "2020-06-22T05:59:54.149024Z",
     "start_time": "2020-06-22T05:59:54.123070Z"
    }
   },
   "outputs": [],
   "source": [
    "lr_precision, lr_recall, _ = precision_recall_curve(y_test, lr.predict_proba(X_test_n)[:,1])\n",
    "auc_score = np.round(auc(lr_recall, lr_precision),2)\n",
    "f1 = np.round(max_f1(lr_precision, lr_recall),2)"
   ]
  },
  {
   "cell_type": "code",
   "execution_count": 101,
   "metadata": {
    "ExecuteTime": {
     "end_time": "2020-06-22T06:00:20.450995Z",
     "start_time": "2020-06-22T06:00:20.442038Z"
    }
   },
   "outputs": [],
   "source": [
    "summary = summary.append({\"Model\":\"Logistic Regression\",\"PR-AUC\": auc_score,\"F1-Score\":f1}, ignore_index=  True)"
   ]
  },
  {
   "cell_type": "code",
   "execution_count": 102,
   "metadata": {
    "ExecuteTime": {
     "end_time": "2020-06-22T06:00:20.973411Z",
     "start_time": "2020-06-22T06:00:20.966564Z"
    }
   },
   "outputs": [
    {
     "data": {
      "text/html": [
       "<div>\n",
       "<style scoped>\n",
       "    .dataframe tbody tr th:only-of-type {\n",
       "        vertical-align: middle;\n",
       "    }\n",
       "\n",
       "    .dataframe tbody tr th {\n",
       "        vertical-align: top;\n",
       "    }\n",
       "\n",
       "    .dataframe thead th {\n",
       "        text-align: right;\n",
       "    }\n",
       "</style>\n",
       "<table border=\"1\" class=\"dataframe\">\n",
       "  <thead>\n",
       "    <tr style=\"text-align: right;\">\n",
       "      <th></th>\n",
       "      <th>Model</th>\n",
       "      <th>PR-AUC</th>\n",
       "      <th>F1-Score</th>\n",
       "    </tr>\n",
       "  </thead>\n",
       "  <tbody>\n",
       "    <tr>\n",
       "      <th>0</th>\n",
       "      <td>Null</td>\n",
       "      <td>0.16</td>\n",
       "      <td>0.20</td>\n",
       "    </tr>\n",
       "    <tr>\n",
       "      <th>1</th>\n",
       "      <td>Decision Tree</td>\n",
       "      <td>0.48</td>\n",
       "      <td>0.46</td>\n",
       "    </tr>\n",
       "    <tr>\n",
       "      <th>2</th>\n",
       "      <td>Logistic Regression</td>\n",
       "      <td>0.40</td>\n",
       "      <td>0.47</td>\n",
       "    </tr>\n",
       "  </tbody>\n",
       "</table>\n",
       "</div>"
      ],
      "text/plain": [
       "                 Model  PR-AUC  F1-Score\n",
       "0                 Null    0.16      0.20\n",
       "1        Decision Tree    0.48      0.46\n",
       "2  Logistic Regression    0.40      0.47"
      ]
     },
     "execution_count": 102,
     "metadata": {},
     "output_type": "execute_result"
    }
   ],
   "source": [
    "summary"
   ]
  },
  {
   "cell_type": "markdown",
   "metadata": {},
   "source": [
    "### Random Forest"
   ]
  },
  {
   "cell_type": "code",
   "execution_count": 103,
   "metadata": {
    "ExecuteTime": {
     "end_time": "2020-06-22T06:00:32.830616Z",
     "start_time": "2020-06-22T06:00:32.826463Z"
    }
   },
   "outputs": [],
   "source": [
    "param_grid = {\"max_depth\":[1,2,5,10,20,None], \"max_features\": [\"sqrt\", \"log2\"]}"
   ]
  },
  {
   "cell_type": "code",
   "execution_count": 104,
   "metadata": {
    "ExecuteTime": {
     "end_time": "2020-06-22T06:01:47.851836Z",
     "start_time": "2020-06-22T06:00:42.208542Z"
    }
   },
   "outputs": [],
   "source": [
    "rf = RandomForestClassifier()\n",
    "gs_model = GridSearchCV(rf, param_grid, scoring = make_scorer(pr_auc), cv = 5)\n",
    "gs_model.fit(X_train_n, y_train)\n",
    "rf.set_params(**gs_model.best_params_)\n",
    "rf.fit(X_train_n, y_train);"
   ]
  },
  {
   "cell_type": "code",
   "execution_count": 105,
   "metadata": {
    "ExecuteTime": {
     "end_time": "2020-06-22T06:01:58.487594Z",
     "start_time": "2020-06-22T06:01:58.481562Z"
    }
   },
   "outputs": [
    {
     "data": {
      "text/plain": [
       "{'max_depth': 1, 'max_features': 'sqrt'}"
      ]
     },
     "execution_count": 105,
     "metadata": {},
     "output_type": "execute_result"
    }
   ],
   "source": [
    "gs_model.best_params_"
   ]
  },
  {
   "cell_type": "code",
   "execution_count": 106,
   "metadata": {
    "ExecuteTime": {
     "end_time": "2020-06-22T06:02:09.842417Z",
     "start_time": "2020-06-22T06:02:09.799902Z"
    }
   },
   "outputs": [],
   "source": [
    "rf_precision, rf_recall, _ = precision_recall_curve(y_test, rf.predict_proba(X_test_n)[:,1])\n",
    "auc_score = np.round(auc(rf_recall, rf_precision),2)\n",
    "f1 = np.round(max_f1(rf_precision, rf_recall),2)"
   ]
  },
  {
   "cell_type": "code",
   "execution_count": 107,
   "metadata": {
    "ExecuteTime": {
     "end_time": "2020-06-22T06:02:14.086398Z",
     "start_time": "2020-06-22T06:02:14.081310Z"
    }
   },
   "outputs": [],
   "source": [
    "summary = summary.append({\"Model\":\"Random Forest\",\"PR-AUC\": auc_score,\"F1-Score\":f1}, ignore_index=  True)"
   ]
  },
  {
   "cell_type": "code",
   "execution_count": 108,
   "metadata": {
    "ExecuteTime": {
     "end_time": "2020-06-22T06:02:14.589178Z",
     "start_time": "2020-06-22T06:02:14.581188Z"
    }
   },
   "outputs": [
    {
     "data": {
      "text/html": [
       "<div>\n",
       "<style scoped>\n",
       "    .dataframe tbody tr th:only-of-type {\n",
       "        vertical-align: middle;\n",
       "    }\n",
       "\n",
       "    .dataframe tbody tr th {\n",
       "        vertical-align: top;\n",
       "    }\n",
       "\n",
       "    .dataframe thead th {\n",
       "        text-align: right;\n",
       "    }\n",
       "</style>\n",
       "<table border=\"1\" class=\"dataframe\">\n",
       "  <thead>\n",
       "    <tr style=\"text-align: right;\">\n",
       "      <th></th>\n",
       "      <th>Model</th>\n",
       "      <th>PR-AUC</th>\n",
       "      <th>F1-Score</th>\n",
       "    </tr>\n",
       "  </thead>\n",
       "  <tbody>\n",
       "    <tr>\n",
       "      <th>0</th>\n",
       "      <td>Null</td>\n",
       "      <td>0.16</td>\n",
       "      <td>0.20</td>\n",
       "    </tr>\n",
       "    <tr>\n",
       "      <th>1</th>\n",
       "      <td>Decision Tree</td>\n",
       "      <td>0.48</td>\n",
       "      <td>0.46</td>\n",
       "    </tr>\n",
       "    <tr>\n",
       "      <th>2</th>\n",
       "      <td>Logistic Regression</td>\n",
       "      <td>0.40</td>\n",
       "      <td>0.47</td>\n",
       "    </tr>\n",
       "    <tr>\n",
       "      <th>3</th>\n",
       "      <td>Random Forest</td>\n",
       "      <td>0.35</td>\n",
       "      <td>0.48</td>\n",
       "    </tr>\n",
       "  </tbody>\n",
       "</table>\n",
       "</div>"
      ],
      "text/plain": [
       "                 Model  PR-AUC  F1-Score\n",
       "0                 Null    0.16      0.20\n",
       "1        Decision Tree    0.48      0.46\n",
       "2  Logistic Regression    0.40      0.47\n",
       "3        Random Forest    0.35      0.48"
      ]
     },
     "execution_count": 108,
     "metadata": {},
     "output_type": "execute_result"
    }
   ],
   "source": [
    "summary"
   ]
  },
  {
   "cell_type": "markdown",
   "metadata": {},
   "source": [
    "### AdaBoost"
   ]
  },
  {
   "cell_type": "code",
   "execution_count": 109,
   "metadata": {
    "ExecuteTime": {
     "end_time": "2020-06-22T06:02:27.871023Z",
     "start_time": "2020-06-22T06:02:27.865139Z"
    }
   },
   "outputs": [],
   "source": [
    "param_grid = {\"n_estimators\":[50,100],\"learning_rate\": [0.1, 0.2, 0.5,1,2,5]}"
   ]
  },
  {
   "cell_type": "code",
   "execution_count": 110,
   "metadata": {
    "ExecuteTime": {
     "end_time": "2020-06-22T06:03:41.208559Z",
     "start_time": "2020-06-22T06:02:29.648243Z"
    }
   },
   "outputs": [],
   "source": [
    "ab = AdaBoostClassifier()\n",
    "gs_model = GridSearchCV(ab, param_grid, scoring = make_scorer(pr_auc), cv = 5)\n",
    "gs_model.fit(X_train_n, y_train)\n",
    "ab.set_params(**gs_model.best_params_)\n",
    "ab.fit(X_train_n, y_train);"
   ]
  },
  {
   "cell_type": "code",
   "execution_count": 111,
   "metadata": {
    "ExecuteTime": {
     "end_time": "2020-06-22T06:03:41.286530Z",
     "start_time": "2020-06-22T06:03:41.210543Z"
    }
   },
   "outputs": [],
   "source": [
    "ab_precision, ab_recall, _ = precision_recall_curve(y_test, ab.predict_proba(X_test_n)[:,1])\n",
    "auc_score = np.round(auc(ab_recall, ab_precision),2)\n",
    "f1 = np.round(max_f1(ab_precision, ab_recall),2)"
   ]
  },
  {
   "cell_type": "code",
   "execution_count": 112,
   "metadata": {
    "ExecuteTime": {
     "end_time": "2020-06-22T06:03:41.297083Z",
     "start_time": "2020-06-22T06:03:41.288106Z"
    }
   },
   "outputs": [],
   "source": [
    "summary = summary.append({\"Model\":\"AdaBoost\",\"PR-AUC\": auc_score,\"F1-Score\":f1}, ignore_index=  True)"
   ]
  },
  {
   "cell_type": "code",
   "execution_count": 113,
   "metadata": {
    "ExecuteTime": {
     "end_time": "2020-06-22T06:03:42.219530Z",
     "start_time": "2020-06-22T06:03:42.210562Z"
    }
   },
   "outputs": [
    {
     "data": {
      "text/html": [
       "<div>\n",
       "<style scoped>\n",
       "    .dataframe tbody tr th:only-of-type {\n",
       "        vertical-align: middle;\n",
       "    }\n",
       "\n",
       "    .dataframe tbody tr th {\n",
       "        vertical-align: top;\n",
       "    }\n",
       "\n",
       "    .dataframe thead th {\n",
       "        text-align: right;\n",
       "    }\n",
       "</style>\n",
       "<table border=\"1\" class=\"dataframe\">\n",
       "  <thead>\n",
       "    <tr style=\"text-align: right;\">\n",
       "      <th></th>\n",
       "      <th>Model</th>\n",
       "      <th>PR-AUC</th>\n",
       "      <th>F1-Score</th>\n",
       "    </tr>\n",
       "  </thead>\n",
       "  <tbody>\n",
       "    <tr>\n",
       "      <th>0</th>\n",
       "      <td>Null</td>\n",
       "      <td>0.16</td>\n",
       "      <td>0.20</td>\n",
       "    </tr>\n",
       "    <tr>\n",
       "      <th>1</th>\n",
       "      <td>Decision Tree</td>\n",
       "      <td>0.48</td>\n",
       "      <td>0.46</td>\n",
       "    </tr>\n",
       "    <tr>\n",
       "      <th>2</th>\n",
       "      <td>Logistic Regression</td>\n",
       "      <td>0.40</td>\n",
       "      <td>0.47</td>\n",
       "    </tr>\n",
       "    <tr>\n",
       "      <th>3</th>\n",
       "      <td>Random Forest</td>\n",
       "      <td>0.35</td>\n",
       "      <td>0.48</td>\n",
       "    </tr>\n",
       "    <tr>\n",
       "      <th>4</th>\n",
       "      <td>AdaBoost</td>\n",
       "      <td>0.49</td>\n",
       "      <td>0.46</td>\n",
       "    </tr>\n",
       "  </tbody>\n",
       "</table>\n",
       "</div>"
      ],
      "text/plain": [
       "                 Model  PR-AUC  F1-Score\n",
       "0                 Null    0.16      0.20\n",
       "1        Decision Tree    0.48      0.46\n",
       "2  Logistic Regression    0.40      0.47\n",
       "3        Random Forest    0.35      0.48\n",
       "4             AdaBoost    0.49      0.46"
      ]
     },
     "execution_count": 113,
     "metadata": {},
     "output_type": "execute_result"
    }
   ],
   "source": [
    "summary"
   ]
  },
  {
   "cell_type": "markdown",
   "metadata": {},
   "source": [
    "### K Nearest Neighbors"
   ]
  },
  {
   "cell_type": "code",
   "execution_count": 114,
   "metadata": {
    "ExecuteTime": {
     "end_time": "2020-06-22T06:03:54.582995Z",
     "start_time": "2020-06-22T06:03:54.578505Z"
    }
   },
   "outputs": [],
   "source": [
    "param_grid = {\"n_neighbors\": [2,3,5,10,20]}"
   ]
  },
  {
   "cell_type": "code",
   "execution_count": 115,
   "metadata": {
    "ExecuteTime": {
     "end_time": "2020-06-22T06:04:50.120953Z",
     "start_time": "2020-06-22T06:04:10.404385Z"
    }
   },
   "outputs": [],
   "source": [
    "knn = KNeighborsClassifier()\n",
    "gs_model = GridSearchCV(knn, param_grid, scoring = make_scorer(pr_auc), cv = 5)\n",
    "gs_model.fit(X_train_n, y_train)\n",
    "knn.set_params(**gs_model.best_params_)\n",
    "knn.fit(X_train_n, y_train);"
   ]
  },
  {
   "cell_type": "code",
   "execution_count": 116,
   "metadata": {
    "ExecuteTime": {
     "end_time": "2020-06-22T06:04:50.126409Z",
     "start_time": "2020-06-22T06:04:50.122412Z"
    }
   },
   "outputs": [
    {
     "data": {
      "text/plain": [
       "{'n_neighbors': 5}"
      ]
     },
     "execution_count": 116,
     "metadata": {},
     "output_type": "execute_result"
    }
   ],
   "source": [
    "gs_model.best_params_"
   ]
  },
  {
   "cell_type": "code",
   "execution_count": 117,
   "metadata": {
    "ExecuteTime": {
     "end_time": "2020-06-22T06:04:51.766306Z",
     "start_time": "2020-06-22T06:04:50.128459Z"
    }
   },
   "outputs": [],
   "source": [
    "knn_precision, knn_recall, _ = precision_recall_curve(y_test, knn.predict_proba(X_test_n)[:,1])\n",
    "auc_score = np.round(auc(knn_recall, knn_precision),2)\n",
    "f1 = np.round(max_f1(knn_precision, knn_recall),2)"
   ]
  },
  {
   "cell_type": "code",
   "execution_count": 118,
   "metadata": {
    "ExecuteTime": {
     "end_time": "2020-06-22T06:05:23.724265Z",
     "start_time": "2020-06-22T06:05:23.714295Z"
    }
   },
   "outputs": [],
   "source": [
    "summary = summary.append({\"Model\":\"K-Nearest Neighbors\",\"PR-AUC\": auc_score,\"F1-Score\":f1}, ignore_index=  True)"
   ]
  },
  {
   "cell_type": "code",
   "execution_count": 119,
   "metadata": {
    "ExecuteTime": {
     "end_time": "2020-06-22T06:05:24.349646Z",
     "start_time": "2020-06-22T06:05:24.337561Z"
    }
   },
   "outputs": [
    {
     "data": {
      "text/html": [
       "<div>\n",
       "<style scoped>\n",
       "    .dataframe tbody tr th:only-of-type {\n",
       "        vertical-align: middle;\n",
       "    }\n",
       "\n",
       "    .dataframe tbody tr th {\n",
       "        vertical-align: top;\n",
       "    }\n",
       "\n",
       "    .dataframe thead th {\n",
       "        text-align: right;\n",
       "    }\n",
       "</style>\n",
       "<table border=\"1\" class=\"dataframe\">\n",
       "  <thead>\n",
       "    <tr style=\"text-align: right;\">\n",
       "      <th></th>\n",
       "      <th>Model</th>\n",
       "      <th>PR-AUC</th>\n",
       "      <th>F1-Score</th>\n",
       "    </tr>\n",
       "  </thead>\n",
       "  <tbody>\n",
       "    <tr>\n",
       "      <th>0</th>\n",
       "      <td>Null</td>\n",
       "      <td>0.16</td>\n",
       "      <td>0.20</td>\n",
       "    </tr>\n",
       "    <tr>\n",
       "      <th>1</th>\n",
       "      <td>Decision Tree</td>\n",
       "      <td>0.48</td>\n",
       "      <td>0.46</td>\n",
       "    </tr>\n",
       "    <tr>\n",
       "      <th>2</th>\n",
       "      <td>Logistic Regression</td>\n",
       "      <td>0.40</td>\n",
       "      <td>0.47</td>\n",
       "    </tr>\n",
       "    <tr>\n",
       "      <th>3</th>\n",
       "      <td>Random Forest</td>\n",
       "      <td>0.35</td>\n",
       "      <td>0.48</td>\n",
       "    </tr>\n",
       "    <tr>\n",
       "      <th>4</th>\n",
       "      <td>AdaBoost</td>\n",
       "      <td>0.49</td>\n",
       "      <td>0.46</td>\n",
       "    </tr>\n",
       "    <tr>\n",
       "      <th>5</th>\n",
       "      <td>K-Nearest Neighbors</td>\n",
       "      <td>0.30</td>\n",
       "      <td>0.37</td>\n",
       "    </tr>\n",
       "  </tbody>\n",
       "</table>\n",
       "</div>"
      ],
      "text/plain": [
       "                 Model  PR-AUC  F1-Score\n",
       "0                 Null    0.16      0.20\n",
       "1        Decision Tree    0.48      0.46\n",
       "2  Logistic Regression    0.40      0.47\n",
       "3        Random Forest    0.35      0.48\n",
       "4             AdaBoost    0.49      0.46\n",
       "5  K-Nearest Neighbors    0.30      0.37"
      ]
     },
     "execution_count": 119,
     "metadata": {},
     "output_type": "execute_result"
    }
   ],
   "source": [
    "summary"
   ]
  },
  {
   "cell_type": "markdown",
   "metadata": {},
   "source": [
    "### XGBoost"
   ]
  },
  {
   "cell_type": "code",
   "execution_count": 120,
   "metadata": {
    "ExecuteTime": {
     "end_time": "2020-06-22T06:05:32.797870Z",
     "start_time": "2020-06-22T06:05:32.792923Z"
    }
   },
   "outputs": [],
   "source": [
    "param_grid = {\"eta\": [0.001,0.01, 0.05,0.1,0.5],\"max_depth\" : [3,5,10]}"
   ]
  },
  {
   "cell_type": "code",
   "execution_count": 121,
   "metadata": {
    "ExecuteTime": {
     "end_time": "2020-06-22T06:10:27.755831Z",
     "start_time": "2020-06-22T06:05:35.343110Z"
    }
   },
   "outputs": [],
   "source": [
    "xgb = XGBClassifier()\n",
    "gs_model = GridSearchCV(xgb, param_grid, scoring = make_scorer(pr_auc), cv = 5)\n",
    "gs_model.fit(X_train_n, y_train)\n",
    "xgb.set_params(**gs_model.best_params_)\n",
    "xgb.fit(X_train_n, y_train);"
   ]
  },
  {
   "cell_type": "code",
   "execution_count": 122,
   "metadata": {
    "ExecuteTime": {
     "end_time": "2020-06-22T06:10:27.761403Z",
     "start_time": "2020-06-22T06:10:27.757382Z"
    }
   },
   "outputs": [
    {
     "data": {
      "text/plain": [
       "{'eta': 0.001, 'max_depth': 5}"
      ]
     },
     "execution_count": 122,
     "metadata": {},
     "output_type": "execute_result"
    }
   ],
   "source": [
    "gs_model.best_params_"
   ]
  },
  {
   "cell_type": "code",
   "execution_count": 123,
   "metadata": {
    "ExecuteTime": {
     "end_time": "2020-06-22T06:10:27.815231Z",
     "start_time": "2020-06-22T06:10:27.763381Z"
    }
   },
   "outputs": [],
   "source": [
    "xgb_precision, xgb_recall, _ = precision_recall_curve(y_test, xgb.predict_proba(X_test_n)[:,1])\n",
    "auc_score = np.round(auc(xgb_recall, xgb_precision),2)\n",
    "f1 = np.round(max_f1(xgb_precision, xgb_recall),2)"
   ]
  },
  {
   "cell_type": "code",
   "execution_count": 124,
   "metadata": {
    "ExecuteTime": {
     "end_time": "2020-06-22T06:10:27.823714Z",
     "start_time": "2020-06-22T06:10:27.816731Z"
    }
   },
   "outputs": [],
   "source": [
    "summary = summary.append({\"Model\":\"XGBoost\",\"PR-AUC\": auc_score,\"F1-Score\":f1}, ignore_index=  True)"
   ]
  },
  {
   "cell_type": "code",
   "execution_count": 125,
   "metadata": {
    "ExecuteTime": {
     "end_time": "2020-06-22T06:10:27.833711Z",
     "start_time": "2020-06-22T06:10:27.825750Z"
    }
   },
   "outputs": [
    {
     "data": {
      "text/html": [
       "<div>\n",
       "<style scoped>\n",
       "    .dataframe tbody tr th:only-of-type {\n",
       "        vertical-align: middle;\n",
       "    }\n",
       "\n",
       "    .dataframe tbody tr th {\n",
       "        vertical-align: top;\n",
       "    }\n",
       "\n",
       "    .dataframe thead th {\n",
       "        text-align: right;\n",
       "    }\n",
       "</style>\n",
       "<table border=\"1\" class=\"dataframe\">\n",
       "  <thead>\n",
       "    <tr style=\"text-align: right;\">\n",
       "      <th></th>\n",
       "      <th>Model</th>\n",
       "      <th>PR-AUC</th>\n",
       "      <th>F1-Score</th>\n",
       "    </tr>\n",
       "  </thead>\n",
       "  <tbody>\n",
       "    <tr>\n",
       "      <th>0</th>\n",
       "      <td>Null</td>\n",
       "      <td>0.16</td>\n",
       "      <td>0.20</td>\n",
       "    </tr>\n",
       "    <tr>\n",
       "      <th>1</th>\n",
       "      <td>Decision Tree</td>\n",
       "      <td>0.48</td>\n",
       "      <td>0.46</td>\n",
       "    </tr>\n",
       "    <tr>\n",
       "      <th>2</th>\n",
       "      <td>Logistic Regression</td>\n",
       "      <td>0.40</td>\n",
       "      <td>0.47</td>\n",
       "    </tr>\n",
       "    <tr>\n",
       "      <th>3</th>\n",
       "      <td>Random Forest</td>\n",
       "      <td>0.35</td>\n",
       "      <td>0.48</td>\n",
       "    </tr>\n",
       "    <tr>\n",
       "      <th>4</th>\n",
       "      <td>AdaBoost</td>\n",
       "      <td>0.49</td>\n",
       "      <td>0.46</td>\n",
       "    </tr>\n",
       "    <tr>\n",
       "      <th>5</th>\n",
       "      <td>K-Nearest Neighbors</td>\n",
       "      <td>0.30</td>\n",
       "      <td>0.37</td>\n",
       "    </tr>\n",
       "    <tr>\n",
       "      <th>6</th>\n",
       "      <td>XGBoost</td>\n",
       "      <td>0.43</td>\n",
       "      <td>0.50</td>\n",
       "    </tr>\n",
       "  </tbody>\n",
       "</table>\n",
       "</div>"
      ],
      "text/plain": [
       "                 Model  PR-AUC  F1-Score\n",
       "0                 Null    0.16      0.20\n",
       "1        Decision Tree    0.48      0.46\n",
       "2  Logistic Regression    0.40      0.47\n",
       "3        Random Forest    0.35      0.48\n",
       "4             AdaBoost    0.49      0.46\n",
       "5  K-Nearest Neighbors    0.30      0.37\n",
       "6              XGBoost    0.43      0.50"
      ]
     },
     "execution_count": 125,
     "metadata": {},
     "output_type": "execute_result"
    }
   ],
   "source": [
    "summary"
   ]
  },
  {
   "cell_type": "markdown",
   "metadata": {},
   "source": [
    "## Summarizing Outputs "
   ]
  },
  {
   "cell_type": "code",
   "execution_count": 127,
   "metadata": {
    "ExecuteTime": {
     "end_time": "2020-06-22T06:14:37.362210Z",
     "start_time": "2020-06-22T06:14:37.215563Z"
    }
   },
   "outputs": [
    {
     "data": {
      "image/png": "[encoded data removed]",
      "text/plain": [
       "<Figure size 1008x432 with 1 Axes>"
      ]
     },
     "metadata": {
      "needs_background": "light"
     },
     "output_type": "display_data"
    }
   ],
   "source": [
    "plt.figure(figsize = (14,6))\n",
    "\n",
    "plt.plot(null_recall, null_precision, linestyle = \"-\", markerfacecolor = \"w\", label = \"Null Model\")\n",
    "\n",
    "plt.plot(dt_recall, dt_precision, linestyle = \"--\", markerfacecolor = \"b\", label = \"Decision Tree\")\n",
    "\n",
    "plt.plot(lr_recall, lr_precision, linestyle = \"-.\", markerfacecolor = \"g\", label = \"Logistic Regression\")\n",
    "\n",
    "plt.plot(rf_recall, rf_precision, linestyle = \":\", markerfacecolor = \"c\", label = \"Random Forest\")\n",
    "\n",
    "plt.plot(ab_recall, ab_precision, linestyle = \"solid\", markerfacecolor = \"m\", label = \"Ada Boost\")\n",
    "\n",
    "plt.plot(knn_recall, knn_precision, linestyle = \"dashdot\", markerfacecolor = \"y\", label = \"K Neighbors Classifier\")\n",
    "\n",
    "plt.plot(xgb_recall, xgb_precision, linestyle = \"dotted\", markerfacecolor = \"k\", label = \"XGBoost\")\n",
    "\n",
    "\n",
    "plt.legend()\n",
    "plt.xlabel('Recall')\n",
    "plt.ylabel('Precision');"
   ]
  },
  {
   "cell_type": "markdown",
   "metadata": {},
   "source": [
    "Observations:\n",
    "- AdaBoost perfoms the best overall\n",
    "- XGBoost has the highest F1-Score of 0.6\n",
    "- All the models perform better than the Null Model"
   ]
  }
 ],
 "metadata": {
  "kernelspec": {
   "display_name": "Python 3",
   "language": "python",
   "name": "python3"
  },
  "language_info": {
   "codemirror_mode": {
    "name": "ipython",
    "version": 3
   },
   "file_extension": ".py",
   "mimetype": "text/x-python",
   "name": "python",
   "nbconvert_exporter": "python",
   "pygments_lexer": "ipython3",
   "version": "3.7.6"
  },
  "toc": {
   "base_numbering": 1,
   "nav_menu": {},
   "number_sections": true,
   "sideBar": true,
   "skip_h1_title": false,
   "title_cell": "Table of Contents",
   "title_sidebar": "Contents",
   "toc_cell": false,
   "toc_position": {},
   "toc_section_display": true,
   "toc_window_display": false
  }
 },
 "nbformat": 4,
 "nbformat_minor": 4
}
